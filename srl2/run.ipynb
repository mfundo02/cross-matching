{
 "cells": [
  {
   "cell_type": "code",
   "execution_count": null,
   "id": "5ea0f7aa-50d0-4731-97c5-e0bf8ab676ec",
   "metadata": {},
   "outputs": [],
   "source": [
    "import os\n",
    "import numpy as np\n",
    "import pandas as pd\n",
    "import configparser\n",
    "import matplotlib.pyplot as plt\n",
    "from matplotlib.colors import Colormap\n",
    "import aplpy\n",
    "\n",
    "from astropy.io import fits\n",
    "from astropy.wcs import WCS\n",
    "from astropy import units as u\n",
    "from astropy.coordinates import SkyCoord, Longitude, Latitude, Angle\n",
    "\n",
    "from astroquery.vizier import Vizier\n",
    "from astroquery.hips2fits import hips2fits\n",
    "\n",
    "from functions import *  # Import your custom functions\n",
    "\n",
    "\n",
    "\n",
    "def load_config(config_file='parameter.ini'):\n",
    "    \"\"\"\n",
    "    #Load parameters from the .ini file.\n",
    "    \"\"\"\n",
    "    config = configparser.ConfigParser()\n",
    "    config.read(config_file)\n",
    "    return config\n",
    "    \n",
    "# Load the configuration\n",
    "config = load_config()\n",
    "\n",
    "create_dataframe(config)\n",
    "process_fits_cutout(config)\n",
    "process_hips_data(config)\n",
    "\n"
   ]
  }
 ],
 "metadata": {
  "kernelspec": {
   "display_name": "ASTRO-PY3 (Python 3.10)",
   "language": "python",
   "name": "astro-py3.10"
  },
  "language_info": {
   "codemirror_mode": {
    "name": "ipython",
    "version": 3
   },
   "file_extension": ".py",
   "mimetype": "text/x-python",
   "name": "python",
   "nbconvert_exporter": "python",
   "pygments_lexer": "ipython3",
   "version": "3.10.4"
  }
 },
 "nbformat": 4,
 "nbformat_minor": 5
}
