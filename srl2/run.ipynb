import os
import numpy as np
import pandas as pd
import configparser
import matplotlib.pyplot as plt
from matplotlib.colors import Colormap
import aplpy

from astropy.io import fits
from astropy.wcs import WCS
from astropy import units as u
from astropy.coordinates import SkyCoord, Longitude, Latitude, Angle

from astroquery.vizier import Vizier
from astroquery.hips2fits import hips2fits

from functions import *  # Import your custom functions



def load_config(config_file='parameter.ini'):
    """
    #Load parameters from the .ini file.
    """
    config = configparser.ConfigParser()
    config.read(config_file)
    return config
    
# Load the configuration
config = load_config()
# File inputs and relevent qualities
kids_fits = config['kiDS']['fits_data']
meerkat_fits = config['meerKAT']['fits_data']
meerklass_image = config['FITSFile']['input_fits']

#separation_threshold =float( config['General']['separation_threshold'])
separation_threshold = 3/3600
output_file1 = config['output']['file1']


# Load data
kids_df = load_fits_data(kids_fits)
df_mk = load_fits_data(meerkat_fits)
 # Load FITS data and coordinates

# Filter KiDS data
fil_df = filter_kids_by_fits(kids_df, meerklass_image)
closest_matches_df1 = find_and_filter_matches(fil_df, df_mk,separation_threshold, output_file1= 'closest_matches_df1.txt')


def process_fits_cutout(config):
    """
    #Process the FITS cutouts from the configuration and save them.
    """
    # Load parameters from the .ini file
    #fits_file = 'el_withsmear_nr0.deeper.DI.int.restored.fits'
    fits_file = config['FITSFile']['input_fits']#the mosaic image
    coord_file = config['Coordinates']['coord_file']
    output_folder = config['FITSFile']['output_folder']
    xw = int(config['Cutout']['xw'])
    yw = int(config['Cutout']['yw'])
    units = config['Cutout']['units']
    clobber = config.getboolean('Cutout', 'clobber')

    # Load FITS data and coordinates
    fits_data = fits.getdata(fits_file, 0)
    header = fits.getheader(fits_file)
    image_data = fits_data[0][0]
    #fits_data, header, image_data = load_fits_data(fits_file)
    
     #Load and Convert the coordinates from the MeerKLASS catalog into pixels.
    ID, RA, Dec, c, pixel_x, pixel_y = load_and_convert_coordinates(coord_file, header)
    
    # Create cutout
    if not os.path.exists(output_folder):
        os.makedirs(output_folder)
    cutout(fits_file, xc=pixel_x, yc=pixel_y, name=ID, xw=xw, yw=yw, units=units, JPEGFolder="WESTTEST", clobber=clobber)

def process_hips_data(config):
    """
    #Process the HIPS catalog data for the given targets and save results.
    """
    hips_catalog = config['General']['hips_catalog']
    output_dir = config['General']['output_dir']
    input_file = config['General']['input_file']
    fov = float(config['General']['fov'])
    width = int(config['General']['width'])
    height = int(config['General']['height'])
    output_folder = config['FITSFile']['output_folder']

    mkcat = np.genfromtxt('closest_matches_df1.txt', 
                      delimiter=',',      # Adjust the delimiter if necessary
                      dtype=None,        # Allow mixed data types
                      encoding=None,     # Use 'utf-8' or None depending on your data
                      names=True)        # Load column names as field names
    !mkdir cutout_mk
    !mkdir image_overlay
    !cp -r ./WESTTEST/* cutout_mk
    
    # Process each target
    for ii in range(mkcat.shape[0]):
        target_name = str(mkcat['ID'][ii])
        target_RA = mkcat['MK_RA'][ii] * u.deg
        target_DEC = mkcat['MK_DEC'][ii] * u.deg
        print(f"Processing {target_name} at RA: {target_RA}, DEC: {target_DEC}")

        #hips = 'CDS/P/KiDS/DR5/color-gri'
        # Download the optical cutout from the HIPS catalog
        result = download_cutout(target_RA, target_DEC, hips_catalog, fov=fov, width=width, height=height)
        #extract the coordinates of the closest matches
        df_clo = pd.read_csv('closest_matches_df1.txt', delimiter=',')
        # Extract the RA and DEC for the closest matches
        xG = df_clo['RAJ2000'][ii]*u.deg
        yG = df_clo['DECJ2000'][ii]*u.deg

        fitsfile = f'cutout_mk/{target_name}.fits'
        clean_fits_header(fitsfile)
        
        HF_levels = compute_contour_levels(fitsfile)
        create_overlay_image(target_name, result, fitsfile, xG, yG, HF_levels, ii)
        
def main():
   # Load parameters from the .ini file
    config = load_config()

    # Run the different processing functions
    process_fits_cutout(config)
    process_hips_data(config)

if __name__ == '__main__':
    main()
    
